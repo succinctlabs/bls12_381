{
 "cells": [
  {
   "cell_type": "code",
   "execution_count": 1,
   "metadata": {},
   "outputs": [],
   "source": [
    "x = -15132376222941642752 \n",
    "k = 12\n",
    "r = (x**4-x**2+1)\n",
    "q = ((x-1)**2)//3 * r + x\n",
    "h = (q**k - 1) // r\n",
    "\n",
    "lam = 4002409555221667393417789825735904156556882819939007885332058136124031650490837864442687629129030796414117214202539\n",
    "m = lam // r\n",
    "p = 5044125407647214251\n",
    "h3 = 2366356426548243601069753987687709088104621721678962410379583120840019275952471579477684846670499039076873213559162845121989217658133790336552276567078487633052653005423051750848782286407340332979263075575489766963251914185767058009683318020965829271737924625612375201545022326908440428522712877494557944965298566001441468676802477524234094954960009227631543471415676620753242466901942121887152806837594306028649150255258504417829961387165043999299071444887652375514277477719817175923289019181393803729926249507024121957184340179467502106891835144220611408665090353102353194448552304429530104218473070114105759487413726485729058069746063140422361472585604626055492939586602274983146215294625774144156395553405525711143696689756441298365274341189385646499074862712688473936093315628166094221735056483459332831845007196600723053356837526749543765815988577005929923802636375670820616189737737304893769679803809426304143627363860243558537831172903494450556755190448279875942974830469855835666815454271389438587399739607656399812689280234103023464545891697941661992848552456326290792224091557256350095392859243101357349751064730561345062266850238821755009430903520645523345000326783803935359711318798844368754833295302563158150573540616830138810935344206231367357992991289265295323280\n",
    "\n",
    "s = 2\n",
    "t = (p^12 - 1) // 3^s\n",
    "\n",
    "assert(h == 27 * p * h3)\n",
    "assert(m == 3 * p^2)\n",
    "\n",
    "assert(gcd(3, h3) == 1)\n",
    "assert(gcd(p^2, h3) == 1)\n",
    "assert(gcd(3, h3) == 1)\n",
    "assert(gcd(p, h3) == 1)\n",
    "assert(gcd(p, 27 * h3) == 1)\n",
    "assert(gcd(27, p * h3) == 1)\n",
    "\n",
    "F = GF(q)\n",
    "Fq12.<u> = GF(q^12)\n",
    "ONE = Fq12(1)\n",
    "\n",
    "w27 = ONE.nth_root(27); \n",
    "wp = ONE.nth_root(p);\n",
    "\n",
    "assert(w27^9 != ONE)"
   ]
  },
  {
   "cell_type": "code",
   "execution_count": 2,
   "metadata": {},
   "outputs": [
    {
     "data": {
      "text/plain": [
       "'0x5363b3fc1792259b1a49573e897748f1d1e86259c9b35e41e2196ba0e4647c6d2d5a1aabb8bfc7c55de821ccb0075f9007e4e12ceb57d00be003854168ea6b8aab790f87edefe6e6b330013c5fe7ea3e2d5edd5e6344cb1616429df090'"
      ]
     },
     "execution_count": 2,
     "metadata": {},
     "output_type": "execute_result"
    }
   ],
   "source": [
    "hex(t)"
   ]
  },
  {
   "cell_type": "code",
   "execution_count": 3,
   "metadata": {},
   "outputs": [
    {
     "name": "stdout",
     "output_type": "stream",
     "text": [
      "r-th residue 2215832431738254021858430833473491971472907921681848639066176995827469549541336756374498109335286165907308496272036*u^11 + 1568830231290002655414696898990994515906754827216931272303146338935885249207435695220858508099237158006327999983721*u^10 + 2789190503201674451857891076016074209873756838728155128589046353191958032604279347727174717406170552051958929605662*u^9 + 2766757639517403038926022128169213511408030714287506907840740953445619999258272434055733105667304591457836852294939*u^8 + 1899290885966997915932727775886289454766769693831016185819397553336201976561994577812375445396848740716768661066906*u^7 + 2730521554304824852333211249086101430803514712548201970920079722904463249643031119531359650834655731163153266539482*u^6 + 2372335291936719397558586286573991991990943761742261105882728734115101996471396939598874216892270954654873982192915*u^5 + 2647761599626775211506645008910551257291866501828740380582086965940927532121673610525201471087360012327636080951779*u^4 + 389437429987139622466189702971416088270898314622679253440470651889296222661007011295568998742161246291242055447985*u^3 + 952087828372006056375175265475346405803455327684867402998952995038578055919629631662111846585901856698458366123906*u^2 + 110700656196224825338140726992030708352686271264597717261216695317674463693221521918984355795975394087767305652271*u + 1587876598240339177559172903511792795433185889988342843144628184734599371629235594140230491168556177222480807631015\n",
      "n-th residue 702129340635049856841832944814581080230395225008518955786708357959580317464299196348570642349757493604171360526549\n"
     ]
    }
   ],
   "source": [
    "print(\"r-th residue\", w27)\n",
    "print(\"n-th residue\", wp)"
   ]
  },
  {
   "cell_type": "code",
   "execution_count": 4,
   "metadata": {},
   "outputs": [],
   "source": [
    "from random import randrange\n",
    "def sample_27th_root(): \n",
    "    i = randrange(27)\n",
    "    return [w27^i, i]\n",
    "\n",
    "def sample_pth_root(): \n",
    "    i = randrange(p)\n",
    "    return [wp^i, i]\n",
    "\n",
    "def sample_h3_root():\n",
    "    x = Fq12.random_element(); \n",
    "    x = x^r \n",
    "    x = x^27 \n",
    "    x = x^p \n",
    "    \n",
    "    assert(x^h3 == ONE)\n",
    "    \n",
    "    return x"
   ]
  },
  {
   "cell_type": "code",
   "execution_count": 5,
   "metadata": {},
   "outputs": [],
   "source": [
    "def has_27th_root_contribution(x): \n",
    "    # checks if x has a 27th root of unity contribution \n",
    "    try: \n",
    "        x.nth_root(3)\n",
    "        return False\n",
    "    except: \n",
    "        return True\n",
    "    \n",
    "def has_pth_root_contribution(x): \n",
    "    # checks if x has a pth root of unity contribution \n",
    "    try: \n",
    "        x.nth_root(p)\n",
    "        return False\n",
    "    except: \n",
    "        return True\n",
    "    \n",
    "def get_pth_root_inverse(x): \n",
    "    if not has_pth_root_contribution(x): \n",
    "        return ONE \n",
    "    \n",
    "    v = 27 * h3 \n",
    "    wj = x^v \n",
    "    \n",
    "    v_inv = inverse_mod(v, p)\n",
    "    s = (-1 * v_inv) % p\n",
    "    \n",
    "    return wj^s\n",
    "\n",
    "def get_27th_root_inverse(x): \n",
    "    if not has_27th_root_contribution(x): \n",
    "        return ONE \n",
    "    \n",
    "    v = p * h3 \n",
    "    wj = x^v \n",
    "    \n",
    "    v_inv = inverse_mod(v, 27)\n",
    "    s = (-1 * v_inv) % 27\n",
    "    \n",
    "    return wj^s"
   ]
  },
  {
   "cell_type": "code",
   "execution_count": 6,
   "metadata": {},
   "outputs": [],
   "source": [
    "# for i in range(300): \n",
    "#     f = Fq12.random_element()\n",
    "#     f = f^r # it will always come as r-th residue in the honest execution\n",
    "\n",
    "#     wp_shift = get_pth_root_inverse(f)\n",
    "#     w27_shift = get_27th_root_inverse(f)\n",
    "    \n",
    "#     f_shifted = f * wp_shift * w27_shift\n",
    "\n",
    "#     root = f_shifted.nth_root(lam)\n",
    "#     assert(f_shifted, root^lam)\n",
    "#     print('step: ', i)"
   ]
  },
  {
   "cell_type": "code",
   "execution_count": 7,
   "metadata": {},
   "outputs": [],
   "source": [
    "# def tonelli_shanks3(c, s, t, a, k, F):\n",
    "#     r = a^t\n",
    "#     ## compute cubic root of (a^t)^-1, h\n",
    "#     h, cc, c = 1, c ** (3^(s - 1)), 1 / c\n",
    "#     for i in range(1, s):\n",
    "#         print('(S ITERATION) i: ', i)\n",
    "#         delta = s - i - 1\n",
    "#         if delta < 0:\n",
    "#             d = r ** ((3^s * t) // 3^(-delta))\n",
    "#         else:\n",
    "#             d = r ** 3^delta\n",
    "#         if d == cc:\n",
    "#             h, r = h * c, r * c^3\n",
    "#         elif d == cc^2:\n",
    "#             h, r = h * c^2, r * (c^3)^2\n",
    "#         c = c^3\n",
    "#     ## recover cubic root of a\n",
    "#     r = a^k * h\n",
    "#     if t == 3 * k + 1:\n",
    "#         r = 1 / r\n",
    "        \n",
    "#     assert(r ** 3 == a)\n",
    "#     return r\n"
   ]
  },
  {
   "cell_type": "code",
   "execution_count": 8,
   "metadata": {},
   "outputs": [],
   "source": [
    "f = Fq12.random_element()\n",
    "f = f^r # it will always come as r-th residue in the honest execution\n",
    "\n",
    "wp_shift = get_pth_root_inverse(f)\n",
    "w27_shift = get_27th_root_inverse(f)\n",
    "\n",
    "c = f * wp_shift * w27_shift"
   ]
  },
  {
   "cell_type": "code",
   "execution_count": 132,
   "metadata": {},
   "outputs": [],
   "source": [
    "q = 7\n",
    "F = IntegerModRing(q)"
   ]
  },
  {
   "cell_type": "code",
   "execution_count": 195,
   "metadata": {},
   "outputs": [],
   "source": [
    "a = F(6)\n",
    "# a = Fq12.random_element()\n",
    "s = 1\n",
    "_t = (q - 1) / 3^s\n",
    "_k = (_t + 1) / 3\n",
    "\n",
    "# Cubic Tonelli-Shanks https://eprint.iacr.org/2009/457.pdf\n",
    "assert(q - 1 == 3^s * _t)\n",
    "# b = Fq12.random_element()\n",
    "# b = F.random_element()\n",
    "b = F(2)\n",
    "c = b^_t\n",
    "r = a^_t\n",
    "\n",
    "h = 1\n",
    "cc = c^(3^(s - 1))\n",
    "c = c^(-1)\n",
    "\n",
    "for i in range(0, s):\n",
    "    d = r^(3^(s - i - 1))\n",
    "    if d == cc:\n",
    "        h *= c\n",
    "        r *= c^3\n",
    "    elif d != F(1):\n",
    "        h *= c^2\n",
    "        r *= (c^3)^2\n",
    "        print(\"HERE\")\n",
    "    c = c^3\n",
    "\n",
    "# assert((a^_t)^(-1) == h^3)\n",
    "r = a^_k * h\n",
    "if _t == 3 * _k + 1:\n",
    "    r = r^(-1)\n",
    "\n",
    "assert(r^3 == a)"
   ]
  }
 ],
 "metadata": {
  "kernelspec": {
   "display_name": "SageMath 10.3",
   "language": "sage",
   "name": "sagemath-10.3"
  },
  "language_info": {
   "codemirror_mode": {
    "name": "ipython",
    "version": 3
   },
   "file_extension": ".py",
   "mimetype": "text/x-python",
   "name": "python",
   "nbconvert_exporter": "python",
   "pygments_lexer": "ipython3",
   "version": "3.11.8"
  }
 },
 "nbformat": 4,
 "nbformat_minor": 4
}
